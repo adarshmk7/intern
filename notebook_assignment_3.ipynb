{
 "cells": [
  {
   "cell_type": "code",
   "execution_count": 2,
   "id": "ea55538d",
   "metadata": {},
   "outputs": [],
   "source": [
    "import pandas as pd\n",
    "import numpy as np\n",
    "import matplotlib.pyplot as plt\n",
    "df = pd.read_csv('heart-disease.csv')"
   ]
  },
  {
   "cell_type": "markdown",
   "id": "99cb43d6",
   "metadata": {},
   "source": [
    "#  Data Loading and Preprocessing"
   ]
  },
  {
   "cell_type": "code",
   "execution_count": 3,
   "id": "496be0b1",
   "metadata": {},
   "outputs": [
    {
     "data": {
      "text/html": [
       "<div>\n",
       "<style scoped>\n",
       "    .dataframe tbody tr th:only-of-type {\n",
       "        vertical-align: middle;\n",
       "    }\n",
       "\n",
       "    .dataframe tbody tr th {\n",
       "        vertical-align: top;\n",
       "    }\n",
       "\n",
       "    .dataframe thead th {\n",
       "        text-align: right;\n",
       "    }\n",
       "</style>\n",
       "<table border=\"1\" class=\"dataframe\">\n",
       "  <thead>\n",
       "    <tr style=\"text-align: right;\">\n",
       "      <th></th>\n",
       "      <th>age</th>\n",
       "      <th>sex</th>\n",
       "      <th>cp</th>\n",
       "      <th>trestbps</th>\n",
       "      <th>chol</th>\n",
       "      <th>fbs</th>\n",
       "      <th>restecg</th>\n",
       "      <th>thalach</th>\n",
       "      <th>exang</th>\n",
       "      <th>oldpeak</th>\n",
       "      <th>slope</th>\n",
       "      <th>ca</th>\n",
       "      <th>thal</th>\n",
       "      <th>target</th>\n",
       "    </tr>\n",
       "  </thead>\n",
       "  <tbody>\n",
       "    <tr>\n",
       "      <th>0</th>\n",
       "      <td>63</td>\n",
       "      <td>1</td>\n",
       "      <td>3</td>\n",
       "      <td>145</td>\n",
       "      <td>233</td>\n",
       "      <td>1</td>\n",
       "      <td>0</td>\n",
       "      <td>150</td>\n",
       "      <td>0</td>\n",
       "      <td>2.3</td>\n",
       "      <td>0</td>\n",
       "      <td>0</td>\n",
       "      <td>1</td>\n",
       "      <td>1</td>\n",
       "    </tr>\n",
       "    <tr>\n",
       "      <th>1</th>\n",
       "      <td>37</td>\n",
       "      <td>1</td>\n",
       "      <td>2</td>\n",
       "      <td>130</td>\n",
       "      <td>250</td>\n",
       "      <td>0</td>\n",
       "      <td>1</td>\n",
       "      <td>187</td>\n",
       "      <td>0</td>\n",
       "      <td>3.5</td>\n",
       "      <td>0</td>\n",
       "      <td>0</td>\n",
       "      <td>2</td>\n",
       "      <td>1</td>\n",
       "    </tr>\n",
       "    <tr>\n",
       "      <th>2</th>\n",
       "      <td>41</td>\n",
       "      <td>0</td>\n",
       "      <td>1</td>\n",
       "      <td>130</td>\n",
       "      <td>204</td>\n",
       "      <td>0</td>\n",
       "      <td>0</td>\n",
       "      <td>172</td>\n",
       "      <td>0</td>\n",
       "      <td>1.4</td>\n",
       "      <td>2</td>\n",
       "      <td>0</td>\n",
       "      <td>2</td>\n",
       "      <td>1</td>\n",
       "    </tr>\n",
       "    <tr>\n",
       "      <th>3</th>\n",
       "      <td>56</td>\n",
       "      <td>1</td>\n",
       "      <td>1</td>\n",
       "      <td>120</td>\n",
       "      <td>236</td>\n",
       "      <td>0</td>\n",
       "      <td>1</td>\n",
       "      <td>178</td>\n",
       "      <td>0</td>\n",
       "      <td>0.8</td>\n",
       "      <td>2</td>\n",
       "      <td>0</td>\n",
       "      <td>2</td>\n",
       "      <td>1</td>\n",
       "    </tr>\n",
       "    <tr>\n",
       "      <th>4</th>\n",
       "      <td>57</td>\n",
       "      <td>0</td>\n",
       "      <td>0</td>\n",
       "      <td>120</td>\n",
       "      <td>354</td>\n",
       "      <td>0</td>\n",
       "      <td>1</td>\n",
       "      <td>163</td>\n",
       "      <td>1</td>\n",
       "      <td>0.6</td>\n",
       "      <td>2</td>\n",
       "      <td>0</td>\n",
       "      <td>2</td>\n",
       "      <td>1</td>\n",
       "    </tr>\n",
       "  </tbody>\n",
       "</table>\n",
       "</div>"
      ],
      "text/plain": [
       "   age  sex  cp  trestbps  chol  fbs  restecg  thalach  exang  oldpeak  slope  \\\n",
       "0   63    1   3       145   233    1        0      150      0      2.3      0   \n",
       "1   37    1   2       130   250    0        1      187      0      3.5      0   \n",
       "2   41    0   1       130   204    0        0      172      0      1.4      2   \n",
       "3   56    1   1       120   236    0        1      178      0      0.8      2   \n",
       "4   57    0   0       120   354    0        1      163      1      0.6      2   \n",
       "\n",
       "   ca  thal  target  \n",
       "0   0     1       1  \n",
       "1   0     2       1  \n",
       "2   0     2       1  \n",
       "3   0     2       1  \n",
       "4   0     2       1  "
      ]
     },
     "execution_count": 3,
     "metadata": {},
     "output_type": "execute_result"
    }
   ],
   "source": [
    "df.head()\n"
   ]
  },
  {
   "cell_type": "code",
   "execution_count": 4,
   "id": "1d1f90e9",
   "metadata": {},
   "outputs": [
    {
     "name": "stdout",
     "output_type": "stream",
     "text": [
      "<class 'pandas.core.frame.DataFrame'>\n",
      "RangeIndex: 303 entries, 0 to 302\n",
      "Data columns (total 14 columns):\n",
      " #   Column    Non-Null Count  Dtype  \n",
      "---  ------    --------------  -----  \n",
      " 0   age       303 non-null    int64  \n",
      " 1   sex       303 non-null    int64  \n",
      " 2   cp        303 non-null    int64  \n",
      " 3   trestbps  303 non-null    int64  \n",
      " 4   chol      303 non-null    int64  \n",
      " 5   fbs       303 non-null    int64  \n",
      " 6   restecg   303 non-null    int64  \n",
      " 7   thalach   303 non-null    int64  \n",
      " 8   exang     303 non-null    int64  \n",
      " 9   oldpeak   303 non-null    float64\n",
      " 10  slope     303 non-null    int64  \n",
      " 11  ca        303 non-null    int64  \n",
      " 12  thal      303 non-null    int64  \n",
      " 13  target    303 non-null    int64  \n",
      "dtypes: float64(1), int64(13)\n",
      "memory usage: 33.3 KB\n"
     ]
    }
   ],
   "source": [
    "df.info()\n"
   ]
  },
  {
   "cell_type": "code",
   "execution_count": 5,
   "id": "1faf794c",
   "metadata": {},
   "outputs": [
    {
     "data": {
      "text/html": [
       "<div>\n",
       "<style scoped>\n",
       "    .dataframe tbody tr th:only-of-type {\n",
       "        vertical-align: middle;\n",
       "    }\n",
       "\n",
       "    .dataframe tbody tr th {\n",
       "        vertical-align: top;\n",
       "    }\n",
       "\n",
       "    .dataframe thead th {\n",
       "        text-align: right;\n",
       "    }\n",
       "</style>\n",
       "<table border=\"1\" class=\"dataframe\">\n",
       "  <thead>\n",
       "    <tr style=\"text-align: right;\">\n",
       "      <th></th>\n",
       "      <th>age</th>\n",
       "      <th>sex</th>\n",
       "      <th>cp</th>\n",
       "      <th>trestbps</th>\n",
       "      <th>chol</th>\n",
       "      <th>fbs</th>\n",
       "      <th>restecg</th>\n",
       "      <th>thalach</th>\n",
       "      <th>exang</th>\n",
       "      <th>oldpeak</th>\n",
       "      <th>slope</th>\n",
       "      <th>ca</th>\n",
       "      <th>thal</th>\n",
       "      <th>target</th>\n",
       "    </tr>\n",
       "  </thead>\n",
       "  <tbody>\n",
       "    <tr>\n",
       "      <th>count</th>\n",
       "      <td>303.000000</td>\n",
       "      <td>303.000000</td>\n",
       "      <td>303.000000</td>\n",
       "      <td>303.000000</td>\n",
       "      <td>303.000000</td>\n",
       "      <td>303.000000</td>\n",
       "      <td>303.000000</td>\n",
       "      <td>303.000000</td>\n",
       "      <td>303.000000</td>\n",
       "      <td>303.000000</td>\n",
       "      <td>303.000000</td>\n",
       "      <td>303.000000</td>\n",
       "      <td>303.000000</td>\n",
       "      <td>303.000000</td>\n",
       "    </tr>\n",
       "    <tr>\n",
       "      <th>mean</th>\n",
       "      <td>54.366337</td>\n",
       "      <td>0.683168</td>\n",
       "      <td>0.966997</td>\n",
       "      <td>131.623762</td>\n",
       "      <td>246.264026</td>\n",
       "      <td>0.148515</td>\n",
       "      <td>0.528053</td>\n",
       "      <td>149.646865</td>\n",
       "      <td>0.326733</td>\n",
       "      <td>1.039604</td>\n",
       "      <td>1.399340</td>\n",
       "      <td>0.729373</td>\n",
       "      <td>2.313531</td>\n",
       "      <td>0.544554</td>\n",
       "    </tr>\n",
       "    <tr>\n",
       "      <th>std</th>\n",
       "      <td>9.082101</td>\n",
       "      <td>0.466011</td>\n",
       "      <td>1.032052</td>\n",
       "      <td>17.538143</td>\n",
       "      <td>51.830751</td>\n",
       "      <td>0.356198</td>\n",
       "      <td>0.525860</td>\n",
       "      <td>22.905161</td>\n",
       "      <td>0.469794</td>\n",
       "      <td>1.161075</td>\n",
       "      <td>0.616226</td>\n",
       "      <td>1.022606</td>\n",
       "      <td>0.612277</td>\n",
       "      <td>0.498835</td>\n",
       "    </tr>\n",
       "    <tr>\n",
       "      <th>min</th>\n",
       "      <td>29.000000</td>\n",
       "      <td>0.000000</td>\n",
       "      <td>0.000000</td>\n",
       "      <td>94.000000</td>\n",
       "      <td>126.000000</td>\n",
       "      <td>0.000000</td>\n",
       "      <td>0.000000</td>\n",
       "      <td>71.000000</td>\n",
       "      <td>0.000000</td>\n",
       "      <td>0.000000</td>\n",
       "      <td>0.000000</td>\n",
       "      <td>0.000000</td>\n",
       "      <td>0.000000</td>\n",
       "      <td>0.000000</td>\n",
       "    </tr>\n",
       "    <tr>\n",
       "      <th>25%</th>\n",
       "      <td>47.500000</td>\n",
       "      <td>0.000000</td>\n",
       "      <td>0.000000</td>\n",
       "      <td>120.000000</td>\n",
       "      <td>211.000000</td>\n",
       "      <td>0.000000</td>\n",
       "      <td>0.000000</td>\n",
       "      <td>133.500000</td>\n",
       "      <td>0.000000</td>\n",
       "      <td>0.000000</td>\n",
       "      <td>1.000000</td>\n",
       "      <td>0.000000</td>\n",
       "      <td>2.000000</td>\n",
       "      <td>0.000000</td>\n",
       "    </tr>\n",
       "    <tr>\n",
       "      <th>50%</th>\n",
       "      <td>55.000000</td>\n",
       "      <td>1.000000</td>\n",
       "      <td>1.000000</td>\n",
       "      <td>130.000000</td>\n",
       "      <td>240.000000</td>\n",
       "      <td>0.000000</td>\n",
       "      <td>1.000000</td>\n",
       "      <td>153.000000</td>\n",
       "      <td>0.000000</td>\n",
       "      <td>0.800000</td>\n",
       "      <td>1.000000</td>\n",
       "      <td>0.000000</td>\n",
       "      <td>2.000000</td>\n",
       "      <td>1.000000</td>\n",
       "    </tr>\n",
       "    <tr>\n",
       "      <th>75%</th>\n",
       "      <td>61.000000</td>\n",
       "      <td>1.000000</td>\n",
       "      <td>2.000000</td>\n",
       "      <td>140.000000</td>\n",
       "      <td>274.500000</td>\n",
       "      <td>0.000000</td>\n",
       "      <td>1.000000</td>\n",
       "      <td>166.000000</td>\n",
       "      <td>1.000000</td>\n",
       "      <td>1.600000</td>\n",
       "      <td>2.000000</td>\n",
       "      <td>1.000000</td>\n",
       "      <td>3.000000</td>\n",
       "      <td>1.000000</td>\n",
       "    </tr>\n",
       "    <tr>\n",
       "      <th>max</th>\n",
       "      <td>77.000000</td>\n",
       "      <td>1.000000</td>\n",
       "      <td>3.000000</td>\n",
       "      <td>200.000000</td>\n",
       "      <td>564.000000</td>\n",
       "      <td>1.000000</td>\n",
       "      <td>2.000000</td>\n",
       "      <td>202.000000</td>\n",
       "      <td>1.000000</td>\n",
       "      <td>6.200000</td>\n",
       "      <td>2.000000</td>\n",
       "      <td>4.000000</td>\n",
       "      <td>3.000000</td>\n",
       "      <td>1.000000</td>\n",
       "    </tr>\n",
       "  </tbody>\n",
       "</table>\n",
       "</div>"
      ],
      "text/plain": [
       "              age         sex          cp    trestbps        chol         fbs  \\\n",
       "count  303.000000  303.000000  303.000000  303.000000  303.000000  303.000000   \n",
       "mean    54.366337    0.683168    0.966997  131.623762  246.264026    0.148515   \n",
       "std      9.082101    0.466011    1.032052   17.538143   51.830751    0.356198   \n",
       "min     29.000000    0.000000    0.000000   94.000000  126.000000    0.000000   \n",
       "25%     47.500000    0.000000    0.000000  120.000000  211.000000    0.000000   \n",
       "50%     55.000000    1.000000    1.000000  130.000000  240.000000    0.000000   \n",
       "75%     61.000000    1.000000    2.000000  140.000000  274.500000    0.000000   \n",
       "max     77.000000    1.000000    3.000000  200.000000  564.000000    1.000000   \n",
       "\n",
       "          restecg     thalach       exang     oldpeak       slope          ca  \\\n",
       "count  303.000000  303.000000  303.000000  303.000000  303.000000  303.000000   \n",
       "mean     0.528053  149.646865    0.326733    1.039604    1.399340    0.729373   \n",
       "std      0.525860   22.905161    0.469794    1.161075    0.616226    1.022606   \n",
       "min      0.000000   71.000000    0.000000    0.000000    0.000000    0.000000   \n",
       "25%      0.000000  133.500000    0.000000    0.000000    1.000000    0.000000   \n",
       "50%      1.000000  153.000000    0.000000    0.800000    1.000000    0.000000   \n",
       "75%      1.000000  166.000000    1.000000    1.600000    2.000000    1.000000   \n",
       "max      2.000000  202.000000    1.000000    6.200000    2.000000    4.000000   \n",
       "\n",
       "             thal      target  \n",
       "count  303.000000  303.000000  \n",
       "mean     2.313531    0.544554  \n",
       "std      0.612277    0.498835  \n",
       "min      0.000000    0.000000  \n",
       "25%      2.000000    0.000000  \n",
       "50%      2.000000    1.000000  \n",
       "75%      3.000000    1.000000  \n",
       "max      3.000000    1.000000  "
      ]
     },
     "execution_count": 5,
     "metadata": {},
     "output_type": "execute_result"
    }
   ],
   "source": [
    "df.describe()\n"
   ]
  },
  {
   "cell_type": "markdown",
   "id": "a5cc9f0e",
   "metadata": {},
   "source": [
    "# handling missing data"
   ]
  },
  {
   "cell_type": "code",
   "execution_count": 6,
   "id": "f0165042",
   "metadata": {},
   "outputs": [],
   "source": [
    "df.dropna(inplace=True)"
   ]
  },
  {
   "cell_type": "code",
   "execution_count": 7,
   "id": "92af5a0d",
   "metadata": {},
   "outputs": [
    {
     "name": "stdout",
     "output_type": "stream",
     "text": [
      "age         0\n",
      "sex         0\n",
      "cp          0\n",
      "trestbps    0\n",
      "chol        0\n",
      "fbs         0\n",
      "restecg     0\n",
      "thalach     0\n",
      "exang       0\n",
      "oldpeak     0\n",
      "slope       0\n",
      "ca          0\n",
      "thal        0\n",
      "target      0\n",
      "dtype: int64\n"
     ]
    }
   ],
   "source": [
    "missing_values = df.isnull().sum()\n",
    "\n",
    "print(missing_values)"
   ]
  },
  {
   "cell_type": "code",
   "execution_count": 8,
   "id": "7f76ec04",
   "metadata": {},
   "outputs": [],
   "source": [
    "df.dropna(inplace=True)"
   ]
  },
  {
   "cell_type": "code",
   "execution_count": 9,
   "id": "f98464ac",
   "metadata": {},
   "outputs": [
    {
     "name": "stdout",
     "output_type": "stream",
     "text": [
      "age         0\n",
      "sex         0\n",
      "cp          0\n",
      "trestbps    0\n",
      "chol        0\n",
      "fbs         0\n",
      "restecg     0\n",
      "thalach     0\n",
      "exang       0\n",
      "oldpeak     0\n",
      "slope       0\n",
      "ca          0\n",
      "thal        0\n",
      "target      0\n",
      "dtype: int64\n"
     ]
    }
   ],
   "source": [
    "print(missing_values)"
   ]
  },
  {
   "cell_type": "code",
   "execution_count": 10,
   "id": "71da9fca",
   "metadata": {},
   "outputs": [],
   "source": [
    "df.dropna(inplace=True) \n",
    "df.dropna(axis=1, inplace=True) \n"
   ]
  },
  {
   "cell_type": "markdown",
   "id": "930d5075",
   "metadata": {},
   "source": [
    "# categorical variables into dummy/indicator variables."
   ]
  },
  {
   "cell_type": "code",
   "execution_count": 13,
   "id": "fa11dc99",
   "metadata": {},
   "outputs": [
    {
     "name": "stdout",
     "output_type": "stream",
     "text": [
      "\n",
      "DataFrame with dummy variables:\n",
      "     age  trestbps  chol  fbs  thalach  oldpeak  ca  target  sex_1  cp_1  \\\n",
      "0     63       145   233    1      150      2.3   0       1      1     0   \n",
      "1     37       130   250    0      187      3.5   0       1      1     0   \n",
      "2     41       130   204    0      172      1.4   0       1      0     1   \n",
      "3     56       120   236    0      178      0.8   0       1      1     1   \n",
      "4     57       120   354    0      163      0.6   0       1      0     0   \n",
      "..   ...       ...   ...  ...      ...      ...  ..     ...    ...   ...   \n",
      "298   57       140   241    0      123      0.2   0       0      0     0   \n",
      "299   45       110   264    0      132      1.2   0       0      1     0   \n",
      "300   68       144   193    1      141      3.4   2       0      1     0   \n",
      "301   57       130   131    0      115      1.2   1       0      1     0   \n",
      "302   57       130   236    0      174      0.0   1       0      0     1   \n",
      "\n",
      "     cp_2  cp_3  restecg_1  restecg_2  exang_1  slope_1  slope_2  thal_1  \\\n",
      "0       0     1          0          0        0        0        0       1   \n",
      "1       1     0          1          0        0        0        0       0   \n",
      "2       0     0          0          0        0        0        1       0   \n",
      "3       0     0          1          0        0        0        1       0   \n",
      "4       0     0          1          0        1        0        1       0   \n",
      "..    ...   ...        ...        ...      ...      ...      ...     ...   \n",
      "298     0     0          1          0        1        1        0       0   \n",
      "299     0     1          1          0        0        1        0       0   \n",
      "300     0     0          1          0        0        1        0       0   \n",
      "301     0     0          1          0        1        1        0       0   \n",
      "302     0     0          0          0        0        1        0       0   \n",
      "\n",
      "     thal_2  thal_3  \n",
      "0         0       0  \n",
      "1         1       0  \n",
      "2         1       0  \n",
      "3         1       0  \n",
      "4         1       0  \n",
      "..      ...     ...  \n",
      "298       0       1  \n",
      "299       0       1  \n",
      "300       0       1  \n",
      "301       0       1  \n",
      "302       1       0  \n",
      "\n",
      "[303 rows x 20 columns]\n"
     ]
    }
   ],
   "source": [
    "categorical_columns = ['sex', 'cp', 'restecg', 'exang', 'slope', 'thal']\n",
    "df_dummies = pd.get_dummies(df, columns=categorical_columns, drop_first=True)\n",
    "\n",
    "print(\"\\nDataFrame with dummy variables:\")\n",
    "print(df_dummies)\n"
   ]
  },
  {
   "cell_type": "markdown",
   "id": "82ec416c",
   "metadata": {},
   "source": [
    "# average age of patients with and without heart disease."
   ]
  },
  {
   "cell_type": "code",
   "execution_count": 12,
   "id": "cce038ea",
   "metadata": {},
   "outputs": [
    {
     "name": "stdout",
     "output_type": "stream",
     "text": [
      "Average age of patients with and without heart disease:\n",
      "target\n",
      "0    56.601449\n",
      "1    52.496970\n",
      "Name: age, dtype: float64\n"
     ]
    }
   ],
   "source": [
    "average_age = df.groupby('target')['age'].mean()\n",
    "\n",
    "print(\"Average age of patients with and without heart disease:\")\n",
    "print(average_age)"
   ]
  },
  {
   "cell_type": "markdown",
   "id": "f1ec8bb6",
   "metadata": {},
   "source": [
    "# Distribution of chest pain types among patients"
   ]
  },
  {
   "cell_type": "code",
   "execution_count": 14,
   "id": "f2dcd0e8",
   "metadata": {},
   "outputs": [
    {
     "name": "stdout",
     "output_type": "stream",
     "text": [
      "Distribution of chest pain types among patients:\n",
      "0    143\n",
      "2     87\n",
      "1     50\n",
      "3     23\n",
      "Name: cp, dtype: int64\n"
     ]
    }
   ],
   "source": [
    "cp_distribution = df['cp'].value_counts()\n",
    "\n",
    "print(\"Distribution of chest pain types among patients:\")\n",
    "print(cp_distribution)"
   ]
  },
  {
   "cell_type": "markdown",
   "id": "b649dbe9",
   "metadata": {},
   "source": [
    "# Correlation between thalach (maximum heart rate) and age"
   ]
  },
  {
   "cell_type": "code",
   "execution_count": 15,
   "id": "60f3d143",
   "metadata": {},
   "outputs": [
    {
     "name": "stdout",
     "output_type": "stream",
     "text": [
      "Correlation between thalach (maximum heart rate) and age:\n",
      "-0.39852193812106734\n"
     ]
    }
   ],
   "source": [
    "correlation = df['thalach'].corr(df['age'])\n",
    "\n",
    "print(\"Correlation between thalach (maximum heart rate) and age:\")\n",
    "print(correlation)"
   ]
  },
  {
   "cell_type": "markdown",
   "id": "eadff08b",
   "metadata": {},
   "source": [
    "# analyzing effect of sex on the presence of heart disease"
   ]
  },
  {
   "cell_type": "code",
   "execution_count": 16,
   "id": "5991401d",
   "metadata": {},
   "outputs": [
    {
     "name": "stdout",
     "output_type": "stream",
     "text": [
      "Proportion of patients with heart disease by sex:\n",
      "sex\n",
      "0    0.750000\n",
      "1    0.449275\n",
      "Name: target, dtype: float64\n"
     ]
    }
   ],
   "source": [
    "sex_heart_disease = df.groupby('sex')['target'].mean()\n",
    "\n",
    "print(\"Proportion of patients with heart disease by sex:\")\n",
    "print(sex_heart_disease)"
   ]
  },
  {
   "cell_type": "markdown",
   "id": "961f26c9",
   "metadata": {},
   "source": [
    "# histogram of the age distribution of patients"
   ]
  },
  {
   "cell_type": "code",
   "execution_count": 19,
   "id": "a0ec1de3",
   "metadata": {},
   "outputs": [
    {
     "data": {
      "image/png": "[encoded data removed]",
      "text/plain": [
       "<Figure size 640x480 with 1 Axes>"
      ]
     },
     "metadata": {},
     "output_type": "display_data"
    }
   ],
   "source": [
    "plt.hist(df['age'], bins=10, edgecolor='yellow')\n",
    "plt.xlabel('Age')\n",
    "plt.ylabel('Frequency')\n",
    "plt.title('Age Distribution of Patients')\n",
    "plt.show()"
   ]
  },
  {
   "cell_type": "markdown",
   "id": "222db941",
   "metadata": {},
   "source": [
    "# plot to show the relationship between thalach (maximum heart rate) and age"
   ]
  },
  {
   "cell_type": "code",
   "execution_count": 20,
   "id": "e27b0397",
   "metadata": {},
   "outputs": [
    {
     "data": {
      "image/png": "[encoded data removed]",
      "text/plain": [
       "<Figure size 640x480 with 1 Axes>"
      ]
     },
     "metadata": {},
     "output_type": "display_data"
    }
   ],
   "source": [
    "plt.bar(cp_distribution.index, cp_distribution.values)\n",
    "plt.xlabel('Chest Pain Type')\n",
    "plt.ylabel('Frequency')\n",
    "plt.title('Distribution of Chest Pain Types Among Patients')\n",
    "plt.xticks(rotation=45)\n",
    "plt.show()"
   ]
  },
  {
   "cell_type": "markdown",
   "id": "679ddf1f",
   "metadata": {},
   "source": [
    "# box plot to compare the age distribution of patients with and without heart disease"
   ]
  },
  {
   "cell_type": "code",
   "execution_count": 21,
   "id": "b0727fa6",
   "metadata": {},
   "outputs": [
    {
     "data": {
      "image/png": "[encoded data removed]",
      "text/plain": [
       "<Figure size 800x600 with 1 Axes>"
      ]
     },
     "metadata": {},
     "output_type": "display_data"
    }
   ],
   "source": [
    "age_with_disease = df[df['target'] == 1]['age']\n",
    "age_without_disease = df[df['target'] == 0]['age']\n",
    "plt.figure(figsize=(8, 6))\n",
    "plt.boxplot([age_with_disease, age_without_disease], labels=['Heart Disease', 'No Heart Disease'])\n",
    "plt.xlabel('Presence of Heart Disease')\n",
    "plt.ylabel('Age')\n",
    "plt.title('Age Distribution of Patients with and without Heart Disease')\n",
    "plt.show()"
   ]
  },
  {
   "cell_type": "code",
   "execution_count": 22,
   "id": "0ca3270b",
   "metadata": {},
   "outputs": [],
   "source": [
    "numerical_columns = df.select_dtypes(include=[np.number]).columns\n"
   ]
  },
  {
   "cell_type": "code",
   "execution_count": 23,
   "id": "e1c9be03",
   "metadata": {},
   "outputs": [
    {
     "name": "stdout",
     "output_type": "stream",
     "text": [
      "Correlation Matrix:\n",
      "[[ 1.         -0.0984466  -0.06865302  0.27935091  0.21367796  0.12130765\n",
      "  -0.1162109  -0.39852194  0.09680083  0.21001257 -0.16881424  0.27632624\n",
      "   0.06800138 -0.22543872]\n",
      " [-0.0984466   1.         -0.04935288 -0.05676882 -0.19791217  0.04503179\n",
      "  -0.05819627 -0.04401991  0.14166381  0.09609288 -0.03071057  0.11826141\n",
      "   0.2100411  -0.28093658]\n",
      " [-0.06865302 -0.04935288  1.          0.04760776 -0.07690439  0.09444403\n",
      "   0.04442059  0.29576212 -0.39428027 -0.14923016  0.11971659 -0.18105303\n",
      "  -0.16173557  0.43379826]\n",
      " [ 0.27935091 -0.05676882  0.04760776  1.          0.12317421  0.17753054\n",
      "  -0.11410279 -0.04669773  0.06761612  0.19321647 -0.12147458  0.10138899\n",
      "   0.06220989 -0.14493113]\n",
      " [ 0.21367796 -0.19791217 -0.07690439  0.12317421  1.          0.0132936\n",
      "  -0.15104008 -0.00993984  0.06702278  0.05395192 -0.00403777  0.07051093\n",
      "   0.09880299 -0.08523911]\n",
      " [ 0.12130765  0.04503179  0.09444403  0.17753054  0.0132936   1.\n",
      "  -0.08418905 -0.00856711  0.02566515  0.00574722 -0.05989418  0.13797933\n",
      "  -0.03201934 -0.02804576]\n",
      " [-0.1162109  -0.05819627  0.04442059 -0.11410279 -0.15104008 -0.08418905\n",
      "   1.          0.04412344 -0.07073286 -0.05877023  0.09304482 -0.07204243\n",
      "  -0.0119814   0.1372295 ]\n",
      " [-0.39852194 -0.04401991  0.29576212 -0.04669773 -0.00993984 -0.00856711\n",
      "   0.04412344  1.         -0.37881209 -0.34418695  0.38678441 -0.21317693\n",
      "  -0.09643913  0.42174093]\n",
      " [ 0.09680083  0.14166381 -0.39428027  0.06761612  0.06702278  0.02566515\n",
      "  -0.07073286 -0.37881209  1.          0.28822281 -0.25774837  0.11573938\n",
      "   0.20675379 -0.43675708]\n",
      " [ 0.21001257  0.09609288 -0.14923016  0.19321647  0.05395192  0.00574722\n",
      "  -0.05877023 -0.34418695  0.28822281  1.         -0.57753682  0.22268232\n",
      "   0.21024413 -0.430696  ]\n",
      " [-0.16881424 -0.03071057  0.11971659 -0.12147458 -0.00403777 -0.05989418\n",
      "   0.09304482  0.38678441 -0.25774837 -0.57753682  1.         -0.08015521\n",
      "  -0.10476379  0.34587708]\n",
      " [ 0.27632624  0.11826141 -0.18105303  0.10138899  0.07051093  0.13797933\n",
      "  -0.07204243 -0.21317693  0.11573938  0.22268232 -0.08015521  1.\n",
      "   0.15183213 -0.39172399]\n",
      " [ 0.06800138  0.2100411  -0.16173557  0.06220989  0.09880299 -0.03201934\n",
      "  -0.0119814  -0.09643913  0.20675379  0.21024413 -0.10476379  0.15183213\n",
      "   1.         -0.34402927]\n",
      " [-0.22543872 -0.28093658  0.43379826 -0.14493113 -0.08523911 -0.02804576\n",
      "   0.1372295   0.42174093 -0.43675708 -0.430696    0.34587708 -0.39172399\n",
      "  -0.34402927  1.        ]]\n"
     ]
    }
   ],
   "source": [
    "\n",
    "numerical_data = df[numerical_columns].to_numpy()\n",
    "\n",
    "\n",
    "corr_matrix = np.corrcoef(numerical_data, rowvar=False)\n",
    "\n",
    "# Print correlation matrix\n",
    "print(\"Correlation Matrix:\")\n",
    "print(corr_matrix)\n"
   ]
  },
  {
   "cell_type": "markdown",
   "id": "98853bb5",
   "metadata": {},
   "source": [
    "# rolling mean analysis on the chol (cholesterol) levels with a window size of 5"
   ]
  },
  {
   "cell_type": "code",
   "execution_count": 31,
   "id": "64db60cb",
   "metadata": {},
   "outputs": [],
   "source": [
    "\n",
    "df['rolling_mean_chol'] = df['chol'].rolling(window=5).mean()\n"
   ]
  },
  {
   "cell_type": "markdown",
   "id": "15cf40f2",
   "metadata": {},
   "source": [
    "# A summary of insights derived from the analysis\n",
    "# This structured approach covers loading and preprocessing data, performing various analyses to derive insights, visualizing key relationships, and conducting advanced numerical analysis using numpy. Adjust the specific methods and techniques based on your dataset and analytical goals to effectively explore and understand the data.\n"
   ]
  }
 ],
 "metadata": {
  "kernelspec": {
   "display_name": "Python 3 (ipykernel)",
   "language": "python",
   "name": "python3"
  },
  "language_info": {
   "codemirror_mode": {
    "name": "ipython",
    "version": 3
   },
   "file_extension": ".py",
   "mimetype": "text/x-python",
   "name": "python",
   "nbconvert_exporter": "python",
   "pygments_lexer": "ipython3",
   "version": "3.10.9"
  }
 },
 "nbformat": 4,
 "nbformat_minor": 5
}
